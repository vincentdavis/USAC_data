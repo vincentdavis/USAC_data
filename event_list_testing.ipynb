{
 "cells": [
  {
   "cell_type": "code",
   "execution_count": 47,
   "metadata": {
    "collapsed": true
   },
   "outputs": [],
   "source": [
    "from bs4 import BeautifulSoup as bs\n",
    "import re\n",
    "from db import DB, Event, EventType, EventIs\n",
    "import requests\n",
    "from bs4 import BeautifulSoup\n",
    "import json\n",
    "import re\n",
    "\n",
    "from db import DB, DB_INIT\n",
    "DB_INIT(remove=True)\n",
    "\n",
    "with open('data/events_94-2016.html', 'r') as infile:\n",
    "    page = infile.read()\n",
    "\n",
    "s = bs(page, 'html.parser')\n",
    "\n",
    "def race_types(cells):\n",
    "    racetypes = [t.strip() for t in cells[3].find_all(text=True)]\n",
    "    race_cat = [t.strip() for t in cells[3].find_all(text=True) if 'Category - ' in t]\n",
    "    race_type = [t.strip() for t in cells[3].find_all(text=True) if 'Category - ' not in t]\n",
    "    return race_cat, race_type\n",
    "    \n",
    "\n",
    "getdata = dict()\n",
    "getdata['event_name'] = (lambda cells: cells[1].find('b').get_text().strip()) # event Name\n",
    "getdata['location'] = (lambda cells: cells[1].find(text = re.compile(\"^[a-zA-Z .]+, [A-Z]{2}\")).strip())\n",
    "getdata['dates'] = (lambda cells: cells[1].find(text = re.compile(\"\\s+\\d{2}/\\d{2}/\\d{4}\")).strip())\n",
    "getdata['flyer'] = (lambda cells: cells[1].find('a', href=True, text='Event Flyer')['href'])\n",
    "getdata['event_website'] = (lambda cells: cells[1].find('a', href=True, text='Event Website')['href'])\n",
    "getdata['permit_number'] = (lambda cells: cells[1].find(text=re.compile(\"\\s+Permit Number:\\s\\S+\")).strip().split(': ')[1])\n",
    "getdata['online_reg'] = (lambda cells: cells[1].find('a', href=True, text='Online Registration')['href'])\n",
    "getdata['promoter'] = (lambda cells: cells[2].find('a', href=True,).get_text().strip())\n",
    "getdata['director'] = (lambda cells: cells[2].find('a', href='javascript:void(0)',).get_text().strip())\n",
    "\n",
    "\n",
    "row = s.find('table').find('tr')  # Search result row\n",
    "# print('*** {}'.format(row.get_text()))\n",
    "row = row.find_next_sibling() # Column header row\n",
    "# print('*** {}'.format(row.get_text()))\n",
    "#These are the event rows.\n",
    "for r in row.find_next_siblings():\n",
    "    if 'Try another search' not in r.get_text():\n",
    "        cells = r.find_all('td', recursive=False)\n",
    "        rcat, rtype = race_types(cells)\n",
    "        rowdata = dict()\n",
    "        row['race_cat'] = rcat\n",
    "        for key, l in getdata.items():\n",
    "            try:\n",
    "                rowdata[key] = l(cells)\n",
    "            except:\n",
    "                rowdata[key] = ''\n",
    "        try:\n",
    "            if rowdata['event_name']:\n",
    "                ev = Event.create(**rowdata)\n",
    "        except Exception as e:\n",
    "            print(e)\n",
    "        try:\n",
    "            for t in rtype:\n",
    "                et, created = EventType.get_or_create(raceType=t)\n",
    "                EventIs.create(anEvent=ev, anEventType=et)\n",
    "        except Exception as e:\n",
    "            print(e)\n",
    "            raise"
   ]
  },
  {
   "cell_type": "code",
   "execution_count": 19,
   "metadata": {
    "collapsed": false
   },
   "outputs": [],
   "source": [
    "def race_types(cells):\n",
    "    \"\"\"\n",
    "    Parse race type column in events row\n",
    "    :param cells:\n",
    "    :return:\n",
    "    \"\"\"\n",
    "    race_cat = [t.strip() for t in cells[3].find_all(text=True) if 'Category - ' in t]\n",
    "    race_type = [t.strip() for t in cells[3].find_all(text=True) if 'Category - ' not in t]\n",
    "    return race_cat, race_type\n",
    "\n",
    "def parse_event_row(row):\n",
    "    getdata = dict()\n",
    "    getdata['event_name'] = (lambda cells: cells[1].find('b').get_text().strip()) # event Name\n",
    "    getdata['location'] = (lambda cells: cells[1].find(text = re.compile(\"^[a-zA-Z .]+, [A-Z]{2}\")).strip())\n",
    "    getdata['dates'] = (lambda cells: cells[1].find(text = re.compile(\"\\s+\\d{2}/\\d{2}/\\d{4}\")).strip())\n",
    "    getdata['flyer'] = (lambda cells: cells[1].find('a', href=True, text='Event Flyer')['href'])\n",
    "    getdata['event_website'] = (lambda cells: cells[1].find('a', href=True, text='Event Website')['href'])\n",
    "    getdata['permit_number'] = (lambda cells: cells[1].find(text=re.compile(\"\\s+Permit Number:\\s\\S+\")).strip().split(': ')[1])\n",
    "    getdata['online_reg'] = (lambda cells: cells[1].find('a', href=True, text='Online Registration')['href'])\n",
    "    getdata['promoter'] = (lambda cells: cells[2].find('a', href=True,).get_text().strip())\n",
    "    getdata['director'] = (lambda cells: cells[2].find('a', href='javascript:void(0)',).get_text().strip())\n",
    "\n",
    "    cells = row.find_all('td', recursive=False)\n",
    "    rcat, rtype = race_types(cells)\n",
    "    rowdata = dict()\n",
    "    row['race_cat'] = rcat\n",
    "    for key, l in getdata.items():\n",
    "        try:\n",
    "            rowdata[key] = l(cells)\n",
    "        except:\n",
    "            rowdata[key] = ''\n",
    "    return rowdata, rtype\n",
    "\n",
    "def load_events(htmlfile):\n",
    "    \"\"\"\n",
    "    This is for bulk loading of events. This is not designed for updating the database.\n",
    "    The html file data/events_94-15.html has all events available 1994 through the end of 2015\n",
    "    :param htmlfile:\n",
    "    :return:\n",
    "    \"\"\"\n",
    "    with open(htmlfile, 'r') as infile:\n",
    "        page = infile.read()\n",
    "    s = bs(page, 'html.parser')\n",
    "\n",
    "    row = s.find('table').find('tr')  # Search result row\n",
    "    # print('*** {}'.format(row.get_text()))\n",
    "    row = row.find_next_sibling() # Column header row\n",
    "    # print('*** {}'.format(row.get_text()))\n",
    "    count = 0\n",
    "    for r in row.find_next_siblings(): #These are the event rows.\n",
    "        if 'Try another search' not in r.get_text():\n",
    "            try:\n",
    "                rowdata, rtype = parse_event_row(r)\n",
    "            except Exception as e:\n",
    "                print(count)\n",
    "                raise\n",
    "            try:\n",
    "                if rowdata['event_name']:\n",
    "                    ev = Event.create(**rowdata)\n",
    "            except Exception as e:\n",
    "                print(e)\n",
    "            try:\n",
    "                for t in rtype:\n",
    "                    et, created = EventType.get_or_create(raceType=t)\n",
    "                    EventIs.create(anEvent=ev, anEventType=et)\n",
    "            except Exception as e:\n",
    "                print(count)\n",
    "                print(e)\n",
    "                raise\n",
    "        count += 1\n",
    "\n",
    "from usactool.db import DB, DB_INIT\n",
    "DB_INIT(remove=True)                \n",
    "load_events('usactool/data/events_page_example.html')"
   ]
  },
  {
   "cell_type": "code",
   "execution_count": null,
   "metadata": {
    "collapsed": true
   },
   "outputs": [],
   "source": []
  },
  {
   "cell_type": "markdown",
   "metadata": {},
   "source": [
    "No events for state AK and year 2013\n",
    "No events for state ND and year 2013\n",
    "No events for state WY and year 2013\n",
    "No events for state AK and year 2014\n",
    "No events for state ND and year 2014\n",
    "No events for state WY and year 2014"
   ]
  },
  {
   "cell_type": "code",
   "execution_count": 5,
   "metadata": {
    "collapsed": false,
    "scrolled": true
   },
   "outputs": [
    {
     "name": "stdout",
     "output_type": "stream",
     "text": [
      "The autoreload extension is already loaded. To reload it, use:\n",
      "  %reload_ext autoreload\n",
      "No events for state AK and year 2010\n",
      "race_cat error:\n",
      "[<td class=\"homearticlebody\" valign=\"top\"><img height=\"22\" src=\"/images/smallrank1.gif\" width=\"20\"/></td>, <td class=\"homearticlebody\" valign=\"top\"><b>Tour de Olmstead</b>  <br>\n",
      "\t\t\t\tPermit Number: 2010-1854  <br>\n",
      "\t\t\t\t06/12/2010<br>Iroquois Park<br>Louisville,, KY<br><a href=\"getflyer.php?permit=2010-1854\" target=\"_blank\">Event Flyer</a><br><a href=\"http://www.olmstedparks.org/tourdeolmsted.html\" target=\"_blank\">Event Website</a><br><table bgcolor=\"#FFFFCC\" border=\"0\" width=\"100%\"><tr>\n",
      "<td class=\"homearticlebody\"><b><a href=\"/results/?permit=2010-1854\">View Results</a></b></td></tr></table><br/></br></br></br></br></br></br></br></td>, <td class=\"homearticlebody\" valign=\"top\"><a href=\"/clubs/index.php?club=9472\">2WheelSports</a><br><a href=\"javascript:void(0)\" onclick='getRDRating(46200,\"Michael Hewitt\")'>Michael Hewitt</a>  <div class=\"current_rating\" onclick=\"getRDRating(46200,'Michael Hewitt')\"><img src=\"/images/star_unselected.png\" width=\"15\"/><img src=\"/images/star_unselected.png\" width=\"15\"/><img src=\"/images/star_unselected.png\" width=\"15\"/><img src=\"/images/star_unselected.png\" width=\"15\"/><img src=\"/images/star_unselected.png\" width=\"15\"/></div><br><script language=\"javascript\" type=\"text/javascript\">\n",
      "var e = unescape(\"Di%28pzmnE%2Auiqt%7CwB%2A_wtnn4%28%5Bizip%28K%2A%28D%7Bizip6%7FwtnnHwtu%7B%7Cmlxizs%7B6wzoF%2AF%2A_wtnn4%28%5Bizip%28K%2A%28D%7Bizip6%7FwtnnHwtu%7B%7Cmlxizs%7B6wzoFD7iF\");\n",
      "var i,p='';for(i=0;i<e.length;i++){p+=String.fromCharCode(((e.charCodeAt(i)-40)%240)+32);}\n",
      "document.write(p);\n",
      "</script><noscript>\"Wolff, Sarah C\" <sarah.wolff <em=\"\">-a<!-- 1238007401 -->t-</sarah.wolff></noscript></br></br></td>]\n",
      "race_type error:\n",
      "[<td class=\"homearticlebody\" valign=\"top\"><img height=\"22\" src=\"/images/smallrank1.gif\" width=\"20\"/></td>, <td class=\"homearticlebody\" valign=\"top\"><b>Tour de Olmstead</b>  <br>\n",
      "\t\t\t\tPermit Number: 2010-1854  <br>\n",
      "\t\t\t\t06/12/2010<br>Iroquois Park<br>Louisville,, KY<br><a href=\"getflyer.php?permit=2010-1854\" target=\"_blank\">Event Flyer</a><br><a href=\"http://www.olmstedparks.org/tourdeolmsted.html\" target=\"_blank\">Event Website</a><br><table bgcolor=\"#FFFFCC\" border=\"0\" width=\"100%\"><tr>\n",
      "<td class=\"homearticlebody\"><b><a href=\"/results/?permit=2010-1854\">View Results</a></b></td></tr></table><br/></br></br></br></br></br></br></br></td>, <td class=\"homearticlebody\" valign=\"top\"><a href=\"/clubs/index.php?club=9472\">2WheelSports</a><br><a href=\"javascript:void(0)\" onclick='getRDRating(46200,\"Michael Hewitt\")'>Michael Hewitt</a>  <div class=\"current_rating\" onclick=\"getRDRating(46200,'Michael Hewitt')\"><img src=\"/images/star_unselected.png\" width=\"15\"/><img src=\"/images/star_unselected.png\" width=\"15\"/><img src=\"/images/star_unselected.png\" width=\"15\"/><img src=\"/images/star_unselected.png\" width=\"15\"/><img src=\"/images/star_unselected.png\" width=\"15\"/></div><br><script language=\"javascript\" type=\"text/javascript\">\n",
      "var e = unescape(\"Di%28pzmnE%2Auiqt%7CwB%2A_wtnn4%28%5Bizip%28K%2A%28D%7Bizip6%7FwtnnHwtu%7B%7Cmlxizs%7B6wzoF%2AF%2A_wtnn4%28%5Bizip%28K%2A%28D%7Bizip6%7FwtnnHwtu%7B%7Cmlxizs%7B6wzoFD7iF\");\n",
      "var i,p='';for(i=0;i<e.length;i++){p+=String.fromCharCode(((e.charCodeAt(i)-40)%240)+32);}\n",
      "document.write(p);\n",
      "</script><noscript>\"Wolff, Sarah C\" <sarah.wolff <em=\"\">-a<!-- 1238007401 -->t-</sarah.wolff></noscript></br></br></td>]\n"
     ]
    }
   ],
   "source": [
    "# scrape past events pages\n",
    "%load_ext autoreload\n",
    "%autoreload 2\n",
    "import logging\n",
    "import importlib\n",
    "importlib.reload(logging)\n",
    "\n",
    "from usactool.tools import *\n",
    "from usactool.db import DB, DB_INIT\n",
    "DB_INIT(remove=True)  \n",
    "get_past_events(2005, 2016, states, pageloc='URL', fileloc='usactool/data/past/', delay=3)"
   ]
  },
  {
   "cell_type": "code",
   "execution_count": 16,
   "metadata": {
    "collapsed": false
   },
   "outputs": [
    {
     "name": "stderr",
     "output_type": "stream",
     "text": [
      "DEBUG:root:test\n",
      "DEBUG:root:This message should go to the log file\n",
      "INFO:root:So should this\n",
      "WARNING:root:And this, too\n"
     ]
    }
   ],
   "source": [
    "import logging\n",
    "logger = logging.getLogger()\n",
    "logger.filename='example.log'\n",
    "logger.setLevel(logging.DEBUG)\n",
    "logger.debug(\"test\")\n",
    "logger.debug('This message should go to the log file')\n",
    "logger.info('So should this')\n",
    "logger.warning('And this, too')\n"
   ]
  },
  {
   "cell_type": "code",
   "execution_count": 25,
   "metadata": {
    "collapsed": false
   },
   "outputs": [],
   "source": [
    "import logging\n",
    "import importlib\n",
    "importlib.reload(logging)\n",
    "logging.basicConfig(filename='example.log',level=logging.DEBUG)\n",
    "logging.debug('This message should go to the log file')\n",
    "logging.info('So should this')\n",
    "logging.warning('And this, too')"
   ]
  },
  {
   "cell_type": "code",
   "execution_count": null,
   "metadata": {
    "collapsed": true
   },
   "outputs": [],
   "source": []
  },
  {
   "cell_type": "markdown",
   "metadata": {},
   "source": [
    "The autoreload extension is already loaded. To reload it, use:\n",
    "  %reload_ext autoreload\n",
    "No events for state AK and year 2005\n",
    "No events for state ND and year 2005\n",
    "No events for state SD and year 2005\n",
    "No events for state AK and year 2006\n",
    "No events for state ND and year 2006\n",
    "No events for state SD and year 2006\n",
    "No events for state WV and year 2006\n",
    "No events for state AK and year 2007\n",
    "No events for state DC and year 2007\n",
    "No events for state ND and year 2007\n",
    "No events for state AK and year 2008\n",
    "No events for state ND and year 2008\n",
    "No events for state AK and year 2009\n",
    "race_cat error:\n",
    "[<td class=\"homearticlebody\" valign=\"top\"><img height=\"22\" src=\"/images/smallrank1.gif\" width=\"20\"/></td>, <td class=\"homearticlebody\" valign=\"top\"><b>Tour Des Lacs</b>  <br>\n",
    "\t\t\t\tPermit Number: 2009-2115  <br>\n",
    "\t\t\t\t08/08/2009<br>1006 N. Leroy St<br>Fenton, MI<br><a href=\"getflyer.php?permit=2009-2115\" target=\"_blank\">Event Flyer</a><br><a href=\"http://www.tourdeslacs.org\" target=\"_blank\">Event Website</a><br><br/></br></br></br></br></br></br></br></td>, <td class=\"homearticlebody\" valign=\"top\"><a href=\"/clubs/index.php?club=11311\">Cyclefit Sports Club</a><br><a href=\"javascript:void(0)\" onclick='getRDRating(177087,\"Ron Stack\")'>Ron Stack</a>  <div class=\"current_rating\" onclick=\"getRDRating(177087,'Ron Stack')\"><img src=\"/images/star_unselected.png\" width=\"15\"/><img src=\"/images/star_unselected.png\" width=\"15\"/><img src=\"/images/star_unselected.png\" width=\"15\"/><img src=\"/images/star_unselected.png\" width=\"15\"/><img src=\"/images/star_unselected.png\" width=\"15\"/></div><br><script language=\"javascript\" type=\"text/javascript\">\n",
    "var e = unescape(\"%3Ec%22jtgh%3F%24ocknvq%3CMko%22Hqgtuvgt%22%3EmhqgtuvgtBejctvgt0pgv%40%24%40Mko%22Hqgtuvgt%22%3EmhqgtuvgtBejctvgt0pgv%40%3E1c%40\");\n",
    "var i,p='';for(i=0;i<e.length;i++){p+=String.fromCharCode(((e.charCodeAt(i)-34)%240)+32);}\n",
    "document.write(p);\n",
    "</script><noscript>Kim Foerster <kfoerster <em=\"\">-a<!-- 133361841 -->t-</kfoerster></noscript></br></br></td>]\n",
    "race_type error:\n",
    "[<td class=\"homearticlebody\" valign=\"top\"><img height=\"22\" src=\"/images/smallrank1.gif\" width=\"20\"/></td>, <td class=\"homearticlebody\" valign=\"top\"><b>Tour Des Lacs</b>  <br>\n",
    "\t\t\t\tPermit Number: 2009-2115  <br>\n",
    "\t\t\t\t08/08/2009<br>1006 N. Leroy St<br>Fenton, MI<br><a href=\"getflyer.php?permit=2009-2115\" target=\"_blank\">Event Flyer</a><br><a href=\"http://www.tourdeslacs.org\" target=\"_blank\">Event Website</a><br><br/></br></br></br></br></br></br></br></td>, <td class=\"homearticlebody\" valign=\"top\"><a href=\"/clubs/index.php?club=11311\">Cyclefit Sports Club</a><br><a href=\"javascript:void(0)\" onclick='getRDRating(177087,\"Ron Stack\")'>Ron Stack</a>  <div class=\"current_rating\" onclick=\"getRDRating(177087,'Ron Stack')\"><img src=\"/images/star_unselected.png\" width=\"15\"/><img src=\"/images/star_unselected.png\" width=\"15\"/><img src=\"/images/star_unselected.png\" width=\"15\"/><img src=\"/images/star_unselected.png\" width=\"15\"/><img src=\"/images/star_unselected.png\" width=\"15\"/></div><br><script language=\"javascript\" type=\"text/javascript\">\n",
    "var e = unescape(\"%3Ec%22jtgh%3F%24ocknvq%3CMko%22Hqgtuvgt%22%3EmhqgtuvgtBejctvgt0pgv%40%24%40Mko%22Hqgtuvgt%22%3EmhqgtuvgtBejctvgt0pgv%40%3E1c%40\");\n",
    "var i,p='';for(i=0;i<e.length;i++){p+=String.fromCharCode(((e.charCodeAt(i)-34)%240)+32);}\n",
    "document.write(p);\n",
    "</script><noscript>Kim Foerster <kfoerster <em=\"\">-a<!-- 133361841 -->t-</kfoerster></noscript></br></br></td>]\n",
    "No events for state ND and year 2009\n",
    "No events for state AK and year 2010\n",
    "---------------------------------------------------------------------------\n",
    "RuntimeError                              Traceback (most recent call last)\n",
    "<ipython-input-6-8280b02b7df4> in <module>()\n",
    "      6 from usactool.db import DB, DB_INIT\n",
    "      7 DB_INIT(remove=True)\n",
    "----> 8 get_past_events(2005, 2013, states, pageloc='URL', fileloc='usactool/data/past/', delay=3)\n",
    "\n",
    "/Users/vincentdavis/VersionControl/USAC_data/usactool/tools.py in get_past_events(start, end, states, pageloc, fileloc, delay)\n",
    "    126                 eventspage = req.get(\"http://www.usacycling.org/events/?state=\" + state + \"&race=&fyear=\" + str(year) + \"&rrfilter=rr\" , headers=HDRS).text\n",
    "    127                 if '<small><sub>(200)</sub></small>' in eventspage: # we are not getting all the results on this page.\n",
    "--> 128                     raise\n",
    "    129                 if fileloc:\n",
    "    130                     with open('{}events_{}_{}'.format(fileloc, state, year), 'w') as f:\n",
    "\n",
    "RuntimeError: No active exception to reraise"
   ]
  },
  {
   "cell_type": "code",
   "execution_count": null,
   "metadata": {
    "collapsed": true
   },
   "outputs": [],
   "source": []
  },
  {
   "cell_type": "code",
   "execution_count": null,
   "metadata": {
    "collapsed": true
   },
   "outputs": [],
   "source": []
  }
 ],
 "metadata": {
  "kernelspec": {
   "display_name": "Python 3",
   "language": "python",
   "name": "python3"
  },
  "language_info": {
   "codemirror_mode": {
    "name": "ipython",
    "version": 3
   },
   "file_extension": ".py",
   "mimetype": "text/x-python",
   "name": "python",
   "nbconvert_exporter": "python",
   "pygments_lexer": "ipython3",
   "version": "3.5.1"
  }
 },
 "nbformat": 4,
 "nbformat_minor": 0
}
