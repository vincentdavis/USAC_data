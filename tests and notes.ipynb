{
 "cells": [
  {
   "cell_type": "code",
   "execution_count": null,
   "metadata": {
    "collapsed": true
   },
   "outputs": [],
   "source": [
    "import requests\n",
    "from bs4 import BeautifulSoup\n",
    "import json\n",
    "hdrs = {'User-Agent':'Mozilla/5.0 (compatible; Googlebot/2.1; +http://www.google.com/bot.html)'}\n",
    "r = requests.session()\n",
    "\n",
    "# This is the results page, Need to scrape the columns;\n",
    "# Place, Points, Name, City, State, Time, USAC#, Bib, Team\n",
    "# json is http://www.usacycling.org/results/index.php?ajax=1&act=infoid&info_id=94310\n",
    "raceresults = r.get('http://www.usacycling.org/results/index.php?year=2016&id=2', headers=hdrs)\n",
    "race = BeautifulSoup(raceresults.text, 'html.parser')\n",
    "\n",
    "# This is the details of lap times for the race. need to scrape the columns\n",
    "# Place Name Lap 1 Lap 2 Lap 3 Lap 4   each race may have different number of laps, more or less than 4\n",
    "racesplits = r.get('https://www.usacycling.org/results/index.php?ajax=1&act=loadresults&race_id=955427', headers=hdrs)\n",
    "p=json.loads(racesplits.text)['message']\n",
    "BeautifulSoup(p, 'html.parser')"
   ]
  },
  {
   "cell_type": "code",
   "execution_count": null,
   "metadata": {
    "collapsed": true
   },
   "outputs": [],
   "source": [
    "import requests\n",
    "from bs4 import BeautifulSoup\n",
    "import json\n",
    "\n",
    "hdrs = {'User-Agent':'Mozilla/5.0 (compatible; Googlebot/2.1; +http://www.google.com/bot.html)'}\n",
    "r = requests.session()\n",
    "raceresults = r.get('http://www.usacycling.org/results/index.php?year=2016&id=2', headers=hdrs)\n",
    "for e in range(94310, 94311): # these are event id's\n",
    "    response = r.get('http://www.usacycling.org/results/index.php?ajax=1&act=infoid&info_id='+str(e), headers=hdrs)\n",
    "    message = json.loads(response.text)['message']\n",
    "    race = BeautifulSoup(message, 'html.parser')\n",
    "    if \"No results found.\" not in race:\n",
    "        print('Race is: {} and race name is: {}'.format(e, ' | '.join(x for x in race.find('h3').find_all(text=True))))\n",
    "        for a in race.find_all('li'):\n",
    "            print('---- {}'.format(a.find('a').contents[0])) # get the text from the href\n",
    "            print('    ---- {}'.format(a.get('id'))) # get the id tage value\n",
    "            results = r.get('https://www.usacycling.org/results/index.php?ajax=1&act=loadresults&race_id=955427', headers=hdrs)\n",
    "            splits = r.get('https://www.usacycling.org/results/index.php?ajax=1&act=splits&race_id=955427', headers=hdrs)  \n",
    "    else:\n",
    "        print('No event: {}'.format(e))"
   ]
  },
  {
   "cell_type": "code",
   "execution_count": null,
   "metadata": {
    "collapsed": true
   },
   "outputs": [],
   "source": [
    "#Parses results table\n",
    "#race\n",
    "rm = json.loads(results.text)['message']\n",
    "r = BeautifulSoup(sm, 'html.parser')\n",
    "# Header\n",
    "for h in r.find_all('div', attrs={'class':\"tablecell header\"}):\n",
    "    if len(h.get_text()) > 1:\n",
    "        print(h.get_text())\n",
    "# Results\n",
    "for h in r.find_all('div', attrs={\"class\":\"tablerow\"}):\n",
    "    print(\"-------------------\")\n",
    "    print(' | '.join(c.get_text() for c in h.find_all('div', attrs={\"class\":\"tablecell results\"})))\n",
    "\n",
    "# x[1].find_all('div')[4].get_text()"
   ]
  },
  {
   "cell_type": "code",
   "execution_count": null,
   "metadata": {
    "collapsed": true
   },
   "outputs": [],
   "source": [
    "s = BeautifulSoup(splits.text, 'html.parser')\n",
    "for r in s.find_all('tr'):\n",
    "    if 'PlaceNameLap' in r.get_text():\n",
    "        print(' | '.join(c.get_text() for c in r.find_all('th')))\n",
    "    print(' | '.join(c.get_text() for c in r.find_all('td')))"
   ]
  },
  {
   "cell_type": "code",
   "execution_count": null,
   "metadata": {
    "collapsed": true
   },
   "outputs": [],
   "source": [
    "splits.text"
   ]
  },
  {
   "cell_type": "code",
   "execution_count": null,
   "metadata": {
    "collapsed": true
   },
   "outputs": [],
   "source": [
    "#x = race.find_all(id)\n",
    "for l in x.find_all('li'):\n",
    "    print(l.get('id'))"
   ]
  },
  {
   "cell_type": "code",
   "execution_count": null,
   "metadata": {
    "collapsed": true
   },
   "outputs": [],
   "source": [
    "for a in x.find_all('a'):\n",
    "    print(a.getText())"
   ]
  },
  {
   "cell_type": "code",
   "execution_count": null,
   "metadata": {
    "collapsed": true
   },
   "outputs": [],
   "source": [
    "HDRS = {'User-Agent':'Mozilla/5.0 (compatible; Googlebot/2.1; +http://www.google.com/bot.html)'}\n",
    "r = requests.session()\n",
    "# We have to load this page first or other pages return unauthorized access\n",
    "startpage = r.get('http://www.usacycling.org/events/rr.php', headers=HDRS)"
   ]
  },
  {
   "cell_type": "code",
   "execution_count": null,
   "metadata": {
    "collapsed": true
   },
   "outputs": [],
   "source": [
    "startpage.cookies"
   ]
  },
  {
   "cell_type": "code",
   "execution_count": null,
   "metadata": {
    "collapsed": true
   },
   "outputs": [],
   "source": [
    "r = requests.session()\n",
    "bool(r.cookies)"
   ]
  },
  {
   "cell_type": "code",
   "execution_count": null,
   "metadata": {
    "collapsed": true
   },
   "outputs": [],
   "source": [
    "import requests\n",
    "from bs4 import BeautifulSoup\n",
    "import json\n",
    "HDRS = {'User-Agent':'Mozilla/5.0 (compatible; Googlebot/2.1; +http://www.google.com/bot.html)'}\n",
    "r = requests.session()\n",
    "\n",
    "# This is the results page, Need to scrape the columns;\n",
    "# Place, Points, Name, City, State, Time, USAC#, Bib, Team\n",
    "# json is http://www.usacycling.org/results/index.php?ajax=1&act=infoid&info_id=94310\n",
    "raceresults = r.get('http://www.usacycling.org/results/index.php?year=2016&id=2', headers=HDRS)\n",
    "#race = BeautifulSoup(raceresults.text, 'html.parser')\n",
    "\n",
    "def get_event_list(session, year):\n",
    "    \"\"\"\n",
    "\n",
    "    :param year:\n",
    "    :return:\n",
    "    \"\"\"\n",
    "    eventspage = r.get(\"http://www.usacycling.org/events/?zipcode=80439&radius=50000&race=&fyear=\" + str(year) + \"&rrfilter=rr\" , headers=HDRS)\n",
    "    soup = BeautifulSoup(eventspage.text, 'html.parser')\n",
    "    return soup\n",
    "\n",
    "s = get_event_list(r, 2016)"
   ]
  },
  {
   "cell_type": "code",
   "execution_count": null,
   "metadata": {
    "collapsed": true
   },
   "outputs": [],
   "source": [
    "for row in s.find('table').find_all('tr'):  # for each row (event)\n",
    "    if 'Permit Number:' in row.get_text(): # Skip the header row\n",
    "        cells = row.find_all('td') # rows are devided into 3 columns\n",
    "        #print(cells[1].find('b')) # event Name\n",
    "        #print(cells[1].find(text = re.compile(\"\\s+Permit Number:\\s\\S+\")))\n",
    "        #print(cells[1].find(text = re.compile(\"\\s+\\d{2}/\\d{2}/\\d{4}\")))\n",
    "        #print(cells[1].find('a', href=True, text='Event Flyer')['href']) \n",
    "        print(cells[1].find('a', href=True, text='Event Website')['href'])"
   ]
  },
  {
   "cell_type": "code",
   "execution_count": null,
   "metadata": {
    "collapsed": true
   },
   "outputs": [],
   "source": [
    "row = s.find('table').find('tr')  # Search result row\n",
    "# print('*** {}'.format(row.get_text()))\n",
    "row = row.find_next_sibling() # Column header row\n",
    "# print('*** {}'.format(row.get_text()))\n",
    "# if 'Permit Number:' in row.get_text(): # Skip the header row\n",
    "#     cells = row.find_all('td') # rows are devided into 3 columns\n",
    "#     #print(cells[1].find('b')) # event Name\n",
    "#     print(cells[1].find(text = re.compile(\"\\s+Permit Number:\\s\\S+\")))\n",
    "#     print(cells[1].find(text = re.compile(\"\\s+\\d{2}/\\d{2}/\\d{4}\")))\n",
    "#     #print(cells[1].find('a', href=True, text='Event Flyer')) \n",
    "#     #print(cells[1].find('a', href=True, text='Event Website'))"
   ]
  },
  {
   "cell_type": "code",
   "execution_count": 1,
   "metadata": {
    "collapsed": true
   },
   "outputs": [],
   "source": [
    "%reload_ext autoreload\n",
    "%autoreload 2\n",
    "from usac import *\n",
    "from db import DB, DB_INIT\n",
    "#DB_INIT(remove=True)\n",
    "DB.connect() \n",
    "for y in range(2005, 2017):\n",
    "    get_event_list(y)"
   ]
  },
  {
   "cell_type": "code",
   "execution_count": null,
   "metadata": {
    "collapsed": true
   },
   "outputs": [],
   "source": []
  },
  {
   "cell_type": "code",
   "execution_count": 126,
   "metadata": {
    "collapsed": false
   },
   "outputs": [
    {
     "data": {
      "text/html": [
       "<div>\n",
       "<table border=\"1\" class=\"dataframe\">\n",
       "  <thead>\n",
       "    <tr style=\"text-align: right;\">\n",
       "      <th></th>\n",
       "      <th>event_name</th>\n",
       "      <th>location</th>\n",
       "      <th>dates</th>\n",
       "      <th>promoter</th>\n",
       "      <th>director</th>\n",
       "      <th>city</th>\n",
       "      <th>state</th>\n",
       "      <th>Start_Date</th>\n",
       "      <th>End_Date</th>\n",
       "    </tr>\n",
       "  </thead>\n",
       "  <tbody>\n",
       "    <tr>\n",
       "      <th>0</th>\n",
       "      <td>First Federal Bank Criterium</td>\n",
       "      <td>Tuscaloosa, AL</td>\n",
       "      <td>05/28/2005</td>\n",
       "      <td>Druid City Bicycle Club</td>\n",
       "      <td>Miles Eddins</td>\n",
       "      <td>Tuscaloosa</td>\n",
       "      <td>AL</td>\n",
       "      <td>05/28/2005</td>\n",
       "      <td></td>\n",
       "    </tr>\n",
       "    <tr>\n",
       "      <th>1</th>\n",
       "      <td>Bump &amp; Grind at Oak Mountain AMBC</td>\n",
       "      <td>Birmingham, AL</td>\n",
       "      <td>06/05/2005</td>\n",
       "      <td>BUMP INC.</td>\n",
       "      <td>Derrick Seys</td>\n",
       "      <td>Birmingham</td>\n",
       "      <td>AL</td>\n",
       "      <td>06/05/2005</td>\n",
       "      <td></td>\n",
       "    </tr>\n",
       "    <tr>\n",
       "      <th>2</th>\n",
       "      <td>Southeast Reg'l Champ AMBC #8</td>\n",
       "      <td>Anniston, AL</td>\n",
       "      <td>07/10/2005</td>\n",
       "      <td>Gone Riding, Corp.</td>\n",
       "      <td>David Berger</td>\n",
       "      <td>Anniston</td>\n",
       "      <td>AL</td>\n",
       "      <td>07/10/2005</td>\n",
       "      <td></td>\n",
       "    </tr>\n",
       "    <tr>\n",
       "      <th>3</th>\n",
       "      <td>Dead Dog Mt. Bike Race</td>\n",
       "      <td>Trussville, AL</td>\n",
       "      <td>10/16/2005</td>\n",
       "      <td>BUMP INC.</td>\n",
       "      <td>Hardwick Gregg</td>\n",
       "      <td>Trussville</td>\n",
       "      <td>AL</td>\n",
       "      <td>10/16/2005</td>\n",
       "      <td></td>\n",
       "    </tr>\n",
       "    <tr>\n",
       "      <th>4</th>\n",
       "      <td>Attack on Sway Back (AOS)</td>\n",
       "      <td>Wetumpka, AL</td>\n",
       "      <td>10/30/2005</td>\n",
       "      <td>Trail of Legends Assn.  Inc.</td>\n",
       "      <td>Michael Cruise</td>\n",
       "      <td>Wetumpka</td>\n",
       "      <td>AL</td>\n",
       "      <td>10/30/2005</td>\n",
       "      <td></td>\n",
       "    </tr>\n",
       "  </tbody>\n",
       "</table>\n",
       "</div>"
      ],
      "text/plain": [
       "                          event_name        location       dates  \\\n",
       "0       First Federal Bank Criterium  Tuscaloosa, AL  05/28/2005   \n",
       "1  Bump & Grind at Oak Mountain AMBC  Birmingham, AL  06/05/2005   \n",
       "2      Southeast Reg'l Champ AMBC #8    Anniston, AL  07/10/2005   \n",
       "3             Dead Dog Mt. Bike Race  Trussville, AL  10/16/2005   \n",
       "4          Attack on Sway Back (AOS)    Wetumpka, AL  10/30/2005   \n",
       "\n",
       "                       promoter        director        city state  Start_Date  \\\n",
       "0       Druid City Bicycle Club    Miles Eddins  Tuscaloosa    AL  05/28/2005   \n",
       "1                     BUMP INC.    Derrick Seys  Birmingham    AL  06/05/2005   \n",
       "2            Gone Riding, Corp.    David Berger    Anniston    AL  07/10/2005   \n",
       "3                     BUMP INC.  Hardwick Gregg  Trussville    AL  10/16/2005   \n",
       "4  Trail of Legends Assn.  Inc.  Michael Cruise    Wetumpka    AL  10/30/2005   \n",
       "\n",
       "  End_Date  \n",
       "0           \n",
       "1           \n",
       "2           \n",
       "3           \n",
       "4           "
      ]
     },
     "execution_count": 126,
     "metadata": {},
     "output_type": "execute_result"
    }
   ],
   "source": [
    "import pandas as pd\n",
    "import sqlite3\n",
    "\n",
    "# Read sqlite query results into a pandas DataFrame\n",
    "con = sqlite3.connect(\"usac.db\")\n",
    "df = pd.read_sql_query(\"SELECT * from event\", con)\n",
    "con.close()\n",
    "# verify that result of SQL query is stored in the dataframe\n",
    "df.drop(['Timestamp', 'permit_number', 'race_cat', 'online_reg', 'id', 'flyer', 'event_website'] , axis=1, inplace=True)\n",
    "df['city'], df['state'] =zip(*df.location.apply(lambda x: x.rsplit(', ', 1) if len(x.rsplit(', ', 1))==2 else [x, '']))\n",
    "df['city'] = df.city.apply(lambda x: x.rsplit(',', 1)[0] if len(x.rsplit(',', 1))==2 else x)\n",
    "df['Start_Date'], df['End_Date'] =zip(*df.dates.apply(lambda x: x.split(' - ', 1) if len(x.rsplit(' - ', 1))==2 else [x, '']))\n",
    "#df.drop(['location', 'dates'] , axis=1, inplace=True)\n",
    "df.head()\n",
    "#df.to_csv(path_or_buf='usac_event_2005_2015.csv')\n"
   ]
  },
  {
   "cell_type": "code",
   "execution_count": 127,
   "metadata": {
    "collapsed": false
   },
   "outputs": [
    {
     "data": {
      "text/plain": [
       "event_name    356\n",
       "location      356\n",
       "dates         356\n",
       "promoter      356\n",
       "director      356\n",
       "city          356\n",
       "state         356\n",
       "Start_Date    356\n",
       "End_Date      356\n",
       "dtype: int64"
      ]
     },
     "execution_count": 127,
     "metadata": {},
     "output_type": "execute_result"
    }
   ],
   "source": [
    "df[df['state'] == ''].count()"
   ]
  },
  {
   "cell_type": "code",
   "execution_count": 92,
   "metadata": {
    "collapsed": false
   },
   "outputs": [
    {
     "data": {
      "text/plain": [
       "director\n",
       "David Berger                       254\n",
       "Robert Leibold                     209\n",
       "                                   197\n",
       "Tim Molyneaux                      123\n",
       "Don Edberg                         119\n",
       "Brian Holzhausen                    97\n",
       "William 'JR' Petsko                 84\n",
       "Neal Boyd                           75\n",
       "Laszlo Vajtay                       65\n",
       "Chip Berezny                        62\n",
       "Richard Ruoff                       61\n",
       "David Butterworth                   60\n",
       "Rebecca Travieso                    60\n",
       "James Lowe                          57\n",
       "Tom Spiegel                         56\n",
       "Ronald Lindley                      54\n",
       "Frederick Phillips                  49\n",
       "Alan Atwood                         48\n",
       "Hal Miller                          48\n",
       "Bruce Dunn                          48\n",
       "Mark Guthart                        47\n",
       "James Bernstein                     46\n",
       "Louis Panigutti                     46\n",
       "Kenneth Mills                       45\n",
       "Dwayne Letterman                    45\n",
       "Dieter Drake                        45\n",
       "Donald Melhado                      43\n",
       "Keri Burns                          40\n",
       "Nippy (Edward) Feldhake             38\n",
       "Steve Rosefield                     36\n",
       "Akira Sato                          36\n",
       "Michael Weiss                       35\n",
       "Rebecca Wissman                     35\n",
       "Andrew Hollinger                    35\n",
       "Robert Wissman                      35\n",
       "Breakaway Event Productions LLC     34\n",
       "Darren Lightfield                   34\n",
       "Erik Anderson                       34\n",
       "Roger Harrison                      34\n",
       "Dean Peterson                       34\n",
       "David Benjes                        34\n",
       "Gary Turnbull                       33\n",
       "Tobin Behling                       33\n",
       "John Lefler Jr                      32\n",
       "Jeffrey Unruh                       32\n",
       "Jason Bradley                       32\n",
       "Robert Linden                       32\n",
       "Lisa Nye-Salladin                   31\n",
       "Marty Nothstein                     31\n",
       "David Riemenschneider               30\n",
       "Name: director, dtype: int64"
      ]
     },
     "execution_count": 92,
     "metadata": {},
     "output_type": "execute_result"
    }
   ],
   "source": [
    "dg = df.groupby('director')['director'].count()\n",
    "dg.sort_values(ascending=False).head(50)"
   ]
  },
  {
   "cell_type": "code",
   "execution_count": 28,
   "metadata": {
    "collapsed": false
   },
   "outputs": [
    {
     "data": {
      "text/html": [
       "<div>\n",
       "<table border=\"1\" class=\"dataframe\">\n",
       "  <thead>\n",
       "    <tr style=\"text-align: right;\">\n",
       "      <th></th>\n",
       "      <th>id</th>\n",
       "      <th>event_name</th>\n",
       "      <th>location</th>\n",
       "      <th>dates</th>\n",
       "      <th>promoter</th>\n",
       "      <th>director</th>\n",
       "    </tr>\n",
       "  </thead>\n",
       "  <tbody>\n",
       "    <tr>\n",
       "      <th>0</th>\n",
       "      <td>1</td>\n",
       "      <td>First Federal Bank Criterium</td>\n",
       "      <td>Tuscaloosa, AL</td>\n",
       "      <td>05/28/2005</td>\n",
       "      <td>Druid City Bicycle Club</td>\n",
       "      <td>Miles Eddins</td>\n",
       "    </tr>\n",
       "    <tr>\n",
       "      <th>1</th>\n",
       "      <td>2</td>\n",
       "      <td>Bump &amp; Grind at Oak Mountain AMBC</td>\n",
       "      <td>Birmingham, AL</td>\n",
       "      <td>06/05/2005</td>\n",
       "      <td>BUMP INC.</td>\n",
       "      <td>Derrick Seys</td>\n",
       "    </tr>\n",
       "    <tr>\n",
       "      <th>2</th>\n",
       "      <td>3</td>\n",
       "      <td>Southeast Reg'l Champ AMBC #8</td>\n",
       "      <td>Anniston, AL</td>\n",
       "      <td>07/10/2005</td>\n",
       "      <td>Gone Riding, Corp.</td>\n",
       "      <td>David Berger</td>\n",
       "    </tr>\n",
       "    <tr>\n",
       "      <th>3</th>\n",
       "      <td>4</td>\n",
       "      <td>Dead Dog Mt. Bike Race</td>\n",
       "      <td>Trussville, AL</td>\n",
       "      <td>10/16/2005</td>\n",
       "      <td>BUMP INC.</td>\n",
       "      <td>Hardwick Gregg</td>\n",
       "    </tr>\n",
       "    <tr>\n",
       "      <th>4</th>\n",
       "      <td>5</td>\n",
       "      <td>Attack on Sway Back (AOS)</td>\n",
       "      <td>Wetumpka, AL</td>\n",
       "      <td>10/30/2005</td>\n",
       "      <td>Trail of Legends Assn.  Inc.</td>\n",
       "      <td>Michael Cruise</td>\n",
       "    </tr>\n",
       "  </tbody>\n",
       "</table>\n",
       "</div>"
      ],
      "text/plain": [
       "   id                         event_name        location       dates  \\\n",
       "0   1       First Federal Bank Criterium  Tuscaloosa, AL  05/28/2005   \n",
       "1   2  Bump & Grind at Oak Mountain AMBC  Birmingham, AL  06/05/2005   \n",
       "2   3      Southeast Reg'l Champ AMBC #8    Anniston, AL  07/10/2005   \n",
       "3   4             Dead Dog Mt. Bike Race  Trussville, AL  10/16/2005   \n",
       "4   5          Attack on Sway Back (AOS)    Wetumpka, AL  10/30/2005   \n",
       "\n",
       "                       promoter        director  \n",
       "0       Druid City Bicycle Club    Miles Eddins  \n",
       "1                     BUMP INC.    Derrick Seys  \n",
       "2            Gone Riding, Corp.    David Berger  \n",
       "3                     BUMP INC.  Hardwick Gregg  \n",
       "4  Trail of Legends Assn.  Inc.  Michael Cruise  "
      ]
     },
     "execution_count": 28,
     "metadata": {},
     "output_type": "execute_result"
    }
   ],
   "source": [
    "df.head()\n"
   ]
  },
  {
   "cell_type": "code",
   "execution_count": 88,
   "metadata": {
    "collapsed": false,
    "scrolled": true
   },
   "outputs": [
    {
     "data": {
      "text/html": [
       "<div>\n",
       "<table border=\"1\" class=\"dataframe\">\n",
       "  <thead>\n",
       "    <tr style=\"text-align: right;\">\n",
       "      <th></th>\n",
       "      <th>id</th>\n",
       "      <th>event_name</th>\n",
       "      <th>location</th>\n",
       "      <th>dates</th>\n",
       "      <th>promoter</th>\n",
       "      <th>director</th>\n",
       "      <th>state</th>\n",
       "      <th>city</th>\n",
       "    </tr>\n",
       "  </thead>\n",
       "  <tbody>\n",
       "    <tr>\n",
       "      <th>0</th>\n",
       "      <td>1</td>\n",
       "      <td>First Federal Bank Criterium</td>\n",
       "      <td>Tuscaloosa, AL</td>\n",
       "      <td>05/28/2005</td>\n",
       "      <td>Druid City Bicycle Club</td>\n",
       "      <td>Miles Eddins</td>\n",
       "      <td>AL</td>\n",
       "      <td>Tuscaloosa</td>\n",
       "    </tr>\n",
       "    <tr>\n",
       "      <th>1</th>\n",
       "      <td>2</td>\n",
       "      <td>Bump &amp; Grind at Oak Mountain AMBC</td>\n",
       "      <td>Birmingham, AL</td>\n",
       "      <td>06/05/2005</td>\n",
       "      <td>BUMP INC.</td>\n",
       "      <td>Derrick Seys</td>\n",
       "      <td>AL</td>\n",
       "      <td>Birmingham</td>\n",
       "    </tr>\n",
       "    <tr>\n",
       "      <th>2</th>\n",
       "      <td>3</td>\n",
       "      <td>Southeast Reg'l Champ AMBC #8</td>\n",
       "      <td>Anniston, AL</td>\n",
       "      <td>07/10/2005</td>\n",
       "      <td>Gone Riding, Corp.</td>\n",
       "      <td>David Berger</td>\n",
       "      <td>AL</td>\n",
       "      <td>Anniston</td>\n",
       "    </tr>\n",
       "    <tr>\n",
       "      <th>3</th>\n",
       "      <td>4</td>\n",
       "      <td>Dead Dog Mt. Bike Race</td>\n",
       "      <td>Trussville, AL</td>\n",
       "      <td>10/16/2005</td>\n",
       "      <td>BUMP INC.</td>\n",
       "      <td>Hardwick Gregg</td>\n",
       "      <td>AL</td>\n",
       "      <td>Trussville</td>\n",
       "    </tr>\n",
       "    <tr>\n",
       "      <th>4</th>\n",
       "      <td>5</td>\n",
       "      <td>Attack on Sway Back (AOS)</td>\n",
       "      <td>Wetumpka, AL</td>\n",
       "      <td>10/30/2005</td>\n",
       "      <td>Trail of Legends Assn.  Inc.</td>\n",
       "      <td>Michael Cruise</td>\n",
       "      <td>AL</td>\n",
       "      <td>Wetumpka</td>\n",
       "    </tr>\n",
       "  </tbody>\n",
       "</table>\n",
       "</div>"
      ],
      "text/plain": [
       "   id                         event_name        location       dates  \\\n",
       "0   1       First Federal Bank Criterium  Tuscaloosa, AL  05/28/2005   \n",
       "1   2  Bump & Grind at Oak Mountain AMBC  Birmingham, AL  06/05/2005   \n",
       "2   3      Southeast Reg'l Champ AMBC #8    Anniston, AL  07/10/2005   \n",
       "3   4             Dead Dog Mt. Bike Race  Trussville, AL  10/16/2005   \n",
       "4   5          Attack on Sway Back (AOS)    Wetumpka, AL  10/30/2005   \n",
       "\n",
       "                       promoter        director state        city  \n",
       "0       Druid City Bicycle Club    Miles Eddins    AL  Tuscaloosa  \n",
       "1                     BUMP INC.    Derrick Seys    AL  Birmingham  \n",
       "2            Gone Riding, Corp.    David Berger    AL    Anniston  \n",
       "3                     BUMP INC.  Hardwick Gregg    AL  Trussville  \n",
       "4  Trail of Legends Assn.  Inc.  Michael Cruise    AL    Wetumpka  "
      ]
     },
     "execution_count": 88,
     "metadata": {},
     "output_type": "execute_result"
    }
   ],
   "source": [
    "\n",
    "df.head()"
   ]
  },
  {
   "cell_type": "code",
   "execution_count": null,
   "metadata": {
    "collapsed": true
   },
   "outputs": [],
   "source": []
  },
  {
   "cell_type": "code",
   "execution_count": 108,
   "metadata": {
    "collapsed": false
   },
   "outputs": [
    {
     "ename": "ImportError",
     "evalue": "No module named 'graphlab'",
     "output_type": "error",
     "traceback": [
      "\u001b[0;31m---------------------------------------------------------------------------\u001b[0m",
      "\u001b[0;31mImportError\u001b[0m                               Traceback (most recent call last)",
      "\u001b[0;32m<ipython-input-108-4b66ad388e97>\u001b[0m in \u001b[0;36m<module>\u001b[0;34m()\u001b[0m\n\u001b[0;32m----> 1\u001b[0;31m \u001b[0;32mimport\u001b[0m \u001b[0mgraphlab\u001b[0m\u001b[0;34m\u001b[0m\u001b[0m\n\u001b[0m",
      "\u001b[0;31mImportError\u001b[0m: No module named 'graphlab'"
     ]
    }
   ],
   "source": [
    "\n"
   ]
  },
  {
   "cell_type": "code",
   "execution_count": null,
   "metadata": {
    "collapsed": true
   },
   "outputs": [],
   "source": []
  },
  {
   "cell_type": "code",
   "execution_count": null,
   "metadata": {
    "collapsed": true
   },
   "outputs": [],
   "source": []
  }
 ],
 "metadata": {
  "kernelspec": {
   "display_name": "Python 3",
   "language": "python",
   "name": "python3"
  },
  "language_info": {
   "codemirror_mode": {
    "name": "ipython",
    "version": 3
   },
   "file_extension": ".py",
   "mimetype": "text/x-python",
   "name": "python",
   "nbconvert_exporter": "python",
   "pygments_lexer": "ipython3",
   "version": "3.5.1"
  }
 },
 "nbformat": 4,
 "nbformat_minor": 0
}
