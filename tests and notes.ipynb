{
 "cells": [
  {
   "cell_type": "code",
   "execution_count": null,
   "metadata": {},
   "outputs": [],
   "source": [
    "import requests\n",
    "from bs4 import BeautifulSoup\n",
    "import json\n",
    "hdrs = {'User-Agent':'Mozilla/5.0 (compatible; Googlebot/2.1; +http://www.google.com/bot.html)'}\n",
    "r = requests.session()\n",
    "\n",
    "# This is the results page, Need to scrape the columns;\n",
    "# Place, Points, Name, City, State, Time, USAC#, Bib, Team\n",
    "# json is http://www.usacycling.org/results/index.php?ajax=1&act=infoid&info_id=94310\n",
    "raceresults = r.get('http://www.usacycling.org/results/index.php?year=2016&id=2', headers=hdrs)\n",
    "race = BeautifulSoup(raceresults.text, 'html.parser')\n",
    "\n",
    "# This is the details of lap times for the race. need to scrape the columns\n",
    "# Place Name Lap 1 Lap 2 Lap 3 Lap 4   each race may have different number of laps, more or less than 4\n",
    "racesplits = r.get('https://www.usacycling.org/results/index.php?ajax=1&act=loadresults&race_id=955427', headers=hdrs)\n",
    "p=json.loads(racesplits.text)['message']\n",
    "BeautifulSoup(p, 'html.parser')"
   ]
  },
  {
   "cell_type": "code",
   "execution_count": null,
   "metadata": {},
   "outputs": [],
   "source": [
    "import requests\n",
    "from bs4 import BeautifulSoup\n",
    "import json\n",
    "\n",
    "hdrs = {'User-Agent':'Mozilla/5.0 (compatible; Googlebot/2.1; +http://www.google.com/bot.html)'}\n",
    "r = requests.session()\n",
    "raceresults = r.get('http://www.usacycling.org/results/index.php?year=2016&id=2', headers=hdrs)\n",
    "for e in range(94310, 94311): # these are event id's\n",
    "    response = r.get('http://www.usacycling.org/results/index.php?ajax=1&act=infoid&info_id='+str(e), headers=hdrs)\n",
    "    message = json.loads(response.text)['message']\n",
    "    race = BeautifulSoup(message, 'html.parser')\n",
    "    if \"No results found.\" not in race:\n",
    "        print('Race is: {} and race name is: {}'.format(e, race.find('h3').getText()))\n",
    "        for a in race.find_all('li'):\n",
    "            print('---- {}'.format(a.find('a').contents[0])) # get the text from the href\n",
    "            print('    ---- {}'.format(a.get('id'))) # get the id tage value\n",
    "            results = r.get('https://www.usacycling.org/results/index.php?ajax=1&act=loadresults&race_id=955427', headers=hdrs)\n",
    "            splits = r.get('https://www.usacycling.org/results/index.php?ajax=1&act=splits&race_id=955427', headers=hdrs)  \n",
    "    else:\n",
    "        print('No event: {}'.format(e))"
   ]
  },
  {
   "cell_type": "code",
   "execution_count": null,
   "metadata": {},
   "outputs": [],
   "source": [
    "#Parses results table\n",
    "#race\n",
    "rm = json.loads(results.text)['message']\n",
    "r = BeautifulSoup(sm, 'html.parser')\n",
    "# Header\n",
    "for h in r.find_all('div', attrs={'class':\"tablecell header\"}):\n",
    "    if len(h.get_text()) > 1:\n",
    "        print(h.get_text())\n",
    "# Results\n",
    "for h in r.find_all('div', attrs={\"class\":\"tablerow\"}):\n",
    "    print(\"-------------------\")\n",
    "    print(' | '.join(c.get_text() for c in h.find_all('div', attrs={\"class\":\"tablecell results\"})))\n",
    "\n",
    "# x[1].find_all('div')[4].get_text()"
   ]
  },
  {
   "cell_type": "code",
   "execution_count": null,
   "metadata": {},
   "outputs": [],
   "source": [
    "s = BeautifulSoup(splits.text, 'html.parser')\n",
    "for r in s.find_all('tr'):\n",
    "    if 'PlaceNameLap' in r.get_text():\n",
    "        print(' | '.join(c.get_text() for c in r.find_all('th')))\n",
    "    print(' | '.join(c.get_text() for c in r.find_all('td')))"
   ]
  },
  {
   "cell_type": "code",
   "execution_count": null,
   "metadata": {},
   "outputs": [],
   "source": [
    "splits.text"
   ]
  },
  {
   "cell_type": "code",
   "execution_count": null,
   "metadata": {},
   "outputs": [],
   "source": [
    "#x = race.find_all(id)\n",
    "for l in x.find_all('li'):\n",
    "    print(l.get('id'))"
   ]
  },
  {
   "cell_type": "code",
   "execution_count": null,
   "metadata": {},
   "outputs": [],
   "source": [
    "for a in x.find_all('a'):\n",
    "    print(a.getText())"
   ]
  },
  {
   "cell_type": "code",
   "execution_count": 6,
   "metadata": {},
   "outputs": [],
   "source": [
    "HDRS = {'User-Agent':'Mozilla/5.0 (compatible; Googlebot/2.1; +http://www.google.com/bot.html)'}\n",
    "r = requests.session()\n",
    "# We have to load this page first or other pages return unauthorized access\n",
    "startpage = r.get('http://www.usacycling.org/events/rr.php', headers=HDRS)"
   ]
  },
  {
   "cell_type": "code",
   "execution_count": 8,
   "metadata": {},
   "outputs": [
    {
     "data": {
      "text/plain": [
       "<RequestsCookieJar[Cookie(version=0, name='AWSELB', value='E521D7FD16BBFAC3448EBFA5187939F6FA83E71B4EA5057EC0614B3CB6CE991A30E4A28D14B7FF5296BE5EA73F7B0F7F84785C59D05109DC9D1392CA33F0A658D42B57C9B2', port=None, port_specified=False, domain='www.usacycling.org', domain_specified=False, domain_initial_dot=False, path='/', path_specified=True, secure=False, expires=1453488163, discard=False, comment=None, comment_url=None, rest={}, rfc2109=False), Cookie(version=0, name='PHPSESSID', value='tr346v6eaorcqhjqtbdir3pot5', port=None, port_specified=False, domain='www.usacycling.org', domain_specified=False, domain_initial_dot=False, path='/', path_specified=True, secure=False, expires=None, discard=True, comment=None, comment_url=None, rest={'HttpOnly': None}, rfc2109=False)]>"
      ]
     },
     "execution_count": 8,
     "output_type": "execute_result",
     "metadata": {}
    }
   ],
   "source": [
    "startpage.cookies"
   ]
  },
  {
   "cell_type": "code",
   "execution_count": null,
   "metadata": {},
   "outputs": [],
   "source": [
    "r = requests.session()\n",
    "r.cookies"
   ]
  },
  {
   "cell_type": "code",
   "execution_count": null,
   "metadata": {},
   "outputs": [],
   "source": [
    ""
   ]
  }
 ],
 "metadata": {
  "kernelspec": {
   "display_name": "Python 3",
   "language": "python",
   "name": "python3"
  },
  "language_info": {
   "codemirror_mode": {
    "name": "ipython",
    "version": 3.0
   },
   "file_extension": ".py",
   "mimetype": "text/x-python",
   "name": "python",
   "nbconvert_exporter": "python",
   "pygments_lexer": "ipython3",
   "version": "3.5.1"
  }
 },
 "nbformat": 4,
 "nbformat_minor": 0
}