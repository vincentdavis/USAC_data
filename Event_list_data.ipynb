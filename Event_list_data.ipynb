{
 "cells": [
  {
   "cell_type": "code",
   "execution_count": 2,
   "metadata": {
    "collapsed": false
   },
   "outputs": [
    {
     "data": {
      "text/html": [
       "<div>\n",
       "<table border=\"1\" class=\"dataframe\">\n",
       "  <thead>\n",
       "    <tr style=\"text-align: right;\">\n",
       "      <th></th>\n",
       "      <th>event_name</th>\n",
       "      <th>location</th>\n",
       "      <th>state</th>\n",
       "      <th>dates</th>\n",
       "      <th>promoter</th>\n",
       "      <th>director</th>\n",
       "      <th>city</th>\n",
       "      <th>Start_Date</th>\n",
       "      <th>End_Date</th>\n",
       "    </tr>\n",
       "  </thead>\n",
       "  <tbody>\n",
       "    <tr>\n",
       "      <th>0</th>\n",
       "      <td>First Federal Bank Criterium</td>\n",
       "      <td>Tuscaloosa, AL</td>\n",
       "      <td>AL</td>\n",
       "      <td>05/28/2005</td>\n",
       "      <td>Druid City Bicycle Club</td>\n",
       "      <td>Miles Eddins</td>\n",
       "      <td>Tuscaloosa</td>\n",
       "      <td>05/28/2005</td>\n",
       "      <td></td>\n",
       "    </tr>\n",
       "    <tr>\n",
       "      <th>1</th>\n",
       "      <td>Bump &amp; Grind at Oak Mountain AMBC</td>\n",
       "      <td>Birmingham, AL</td>\n",
       "      <td>AL</td>\n",
       "      <td>06/05/2005</td>\n",
       "      <td>BUMP INC.</td>\n",
       "      <td>Derrick Seys</td>\n",
       "      <td>Birmingham</td>\n",
       "      <td>06/05/2005</td>\n",
       "      <td></td>\n",
       "    </tr>\n",
       "    <tr>\n",
       "      <th>2</th>\n",
       "      <td>Southeast Reg'l Champ AMBC #8</td>\n",
       "      <td>Anniston, AL</td>\n",
       "      <td>AL</td>\n",
       "      <td>07/10/2005</td>\n",
       "      <td>Gone Riding, Corp.</td>\n",
       "      <td>David Berger</td>\n",
       "      <td>Anniston</td>\n",
       "      <td>07/10/2005</td>\n",
       "      <td></td>\n",
       "    </tr>\n",
       "    <tr>\n",
       "      <th>3</th>\n",
       "      <td>Dead Dog Mt. Bike Race</td>\n",
       "      <td>Trussville, AL</td>\n",
       "      <td>AL</td>\n",
       "      <td>10/16/2005</td>\n",
       "      <td>BUMP INC.</td>\n",
       "      <td>Hardwick Gregg</td>\n",
       "      <td>Trussville</td>\n",
       "      <td>10/16/2005</td>\n",
       "      <td></td>\n",
       "    </tr>\n",
       "    <tr>\n",
       "      <th>4</th>\n",
       "      <td>Attack on Sway Back (AOS)</td>\n",
       "      <td>Wetumpka, AL</td>\n",
       "      <td>AL</td>\n",
       "      <td>10/30/2005</td>\n",
       "      <td>Trail of Legends Assn.  Inc.</td>\n",
       "      <td>Michael Cruise</td>\n",
       "      <td>Wetumpka</td>\n",
       "      <td>10/30/2005</td>\n",
       "      <td></td>\n",
       "    </tr>\n",
       "  </tbody>\n",
       "</table>\n",
       "</div>"
      ],
      "text/plain": [
       "                          event_name        location state       dates  \\\n",
       "0       First Federal Bank Criterium  Tuscaloosa, AL    AL  05/28/2005   \n",
       "1  Bump & Grind at Oak Mountain AMBC  Birmingham, AL    AL  06/05/2005   \n",
       "2      Southeast Reg'l Champ AMBC #8    Anniston, AL    AL  07/10/2005   \n",
       "3             Dead Dog Mt. Bike Race  Trussville, AL    AL  10/16/2005   \n",
       "4          Attack on Sway Back (AOS)    Wetumpka, AL    AL  10/30/2005   \n",
       "\n",
       "                       promoter        director        city  Start_Date  \\\n",
       "0       Druid City Bicycle Club    Miles Eddins  Tuscaloosa  05/28/2005   \n",
       "1                     BUMP INC.    Derrick Seys  Birmingham  06/05/2005   \n",
       "2            Gone Riding, Corp.    David Berger    Anniston  07/10/2005   \n",
       "3                     BUMP INC.  Hardwick Gregg  Trussville  10/16/2005   \n",
       "4  Trail of Legends Assn.  Inc.  Michael Cruise    Wetumpka  10/30/2005   \n",
       "\n",
       "  End_Date  \n",
       "0           \n",
       "1           \n",
       "2           \n",
       "3           \n",
       "4           "
      ]
     },
     "execution_count": 2,
     "metadata": {},
     "output_type": "execute_result"
    }
   ],
   "source": [
    "import pandas as pd\n",
    "import sqlite3\n",
    "\n",
    "# Read sqlite query results into a pandas DataFrame\n",
    "con = sqlite3.connect(\"usac.db\")\n",
    "df = pd.read_sql_query(\"SELECT * from event\", con)\n",
    "con.close()\n",
    "# verify that result of SQL query is stored in the dataframe\n",
    "df.drop(['Timestamp', 'permit_number', 'race_cat', 'online_reg', 'id', 'flyer', 'event_website'] , axis=1, inplace=True)\n",
    "df['city'], df['state'] =zip(*df.location.apply(lambda x: x.rsplit(', ', 1) if len(x.rsplit(', ', 1))==2 else [x, '']))\n",
    "df['city'] = df.city.apply(lambda x: x.rsplit(',', 1)[0] if len(x.rsplit(',', 1))==2 else x)\n",
    "df['Start_Date'], df['End_Date'] =zip(*df.dates.apply(lambda x: x.split(' - ', 1) if len(x.rsplit(' - ', 1))==2 else [x, '']))\n",
    "#df.drop(['location', 'dates'] , axis=1, inplace=True)\n",
    "df.head()\n",
    "#df.to_csv(path_or_buf='usac_event_2005_2015.csv')"
   ]
  },
  {
   "cell_type": "code",
   "execution_count": null,
   "metadata": {
    "collapsed": true
   },
   "outputs": [],
   "source": [
    "df[df['state'] == ''].count()"
   ]
  },
  {
   "cell_type": "code",
   "execution_count": null,
   "metadata": {
    "collapsed": true
   },
   "outputs": [],
   "source": [
    "dg = df.groupby('director')['director'].count()\n",
    "dg.sort_values(ascending=False).head(50)"
   ]
  },
  {
   "cell_type": "code",
   "execution_count": null,
   "metadata": {
    "collapsed": true
   },
   "outputs": [],
   "source": []
  },
  {
   "cell_type": "code",
   "execution_count": null,
   "metadata": {
    "collapsed": true
   },
   "outputs": [],
   "source": []
  },
  {
   "cell_type": "code",
   "execution_count": null,
   "metadata": {
    "collapsed": true
   },
   "outputs": [],
   "source": []
  }
 ],
 "metadata": {
  "kernelspec": {
   "display_name": "Python 3",
   "language": "python",
   "name": "python3"
  },
  "language_info": {
   "codemirror_mode": {
    "name": "ipython",
    "version": 3
   },
   "file_extension": ".py",
   "mimetype": "text/x-python",
   "name": "python",
   "nbconvert_exporter": "python",
   "pygments_lexer": "ipython3",
   "version": "3.5.1"
  }
 },
 "nbformat": 4,
 "nbformat_minor": 0
}
