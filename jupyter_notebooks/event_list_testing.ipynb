{
 "cells": [
  {
   "cell_type": "markdown",
   "metadata": {},
   "source": [
    "No events for state AK and year 2013\n",
    "No events for state ND and year 2013\n",
    "No events for state WY and year 2013\n",
    "No events for state AK and year 2014\n",
    "No events for state ND and year 2014\n",
    "No events for state WY and year 2014"
   ]
  },
  {
   "cell_type": "code",
   "execution_count": 1,
   "metadata": {
    "collapsed": false,
    "scrolled": true
   },
   "outputs": [
    {
     "ename": "ModuleNotFoundError",
     "evalue": "No module named 'usactool'",
     "traceback": [
      "\u001b[0;31m---------------------------------------------------------------------------\u001b[0m",
      "\u001b[0;31mModuleNotFoundError\u001b[0m                       Traceback (most recent call last)",
      "\u001b[0;32m<ipython-input-1-d4f0178ac423>\u001b[0m in \u001b[0;36m<module>\u001b[0;34m()\u001b[0m\n\u001b[1;32m      7\u001b[0m \u001b[0;31m# logger.setLevel(logging.WARNING)\u001b[0m\u001b[0;34m\u001b[0m\u001b[0;34m\u001b[0m\u001b[0m\n\u001b[1;32m      8\u001b[0m \u001b[0;34m\u001b[0m\u001b[0m\n\u001b[0;32m----> 9\u001b[0;31m \u001b[0;32mfrom\u001b[0m \u001b[0musactool\u001b[0m\u001b[0;34m.\u001b[0m\u001b[0mtools\u001b[0m \u001b[0;32mimport\u001b[0m \u001b[0;34m*\u001b[0m\u001b[0;34m\u001b[0m\u001b[0m\n\u001b[0m\u001b[1;32m     10\u001b[0m \u001b[0;32mfrom\u001b[0m \u001b[0musactool\u001b[0m\u001b[0;34m.\u001b[0m\u001b[0mdb\u001b[0m \u001b[0;32mimport\u001b[0m \u001b[0mDB\u001b[0m\u001b[0;34m,\u001b[0m \u001b[0mDB_INIT\u001b[0m\u001b[0;34m\u001b[0m\u001b[0m\n\u001b[1;32m     11\u001b[0m \u001b[0mDB_INIT\u001b[0m\u001b[0;34m(\u001b[0m\u001b[0mremove\u001b[0m\u001b[0;34m=\u001b[0m\u001b[0;32mTrue\u001b[0m\u001b[0;34m)\u001b[0m\u001b[0;34m\u001b[0m\u001b[0m\n",
      "\u001b[0;31mModuleNotFoundError\u001b[0m: No module named 'usactool'"
     ],
     "output_type": "error"
    }
   ],
   "source": [
    "# scrape past events pages\n",
    "%load_ext autoreload\n",
    "%autoreload 2\n",
    "#import logging\n",
    "#import importlib\n",
    "#importlib.reload(logging)\n",
    "# logger.setLevel(logging.WARNING)\n",
    "\n",
    "from usactool.tools import *\n",
    "from usactool.db import DB, DB_INIT\n",
    "DB_INIT(remove=True)  \n",
    "get_past_events(2005, 2015, states, pageloc='FILE', fileloc='usactool/data/past/', delay=3)"
   ]
  },
  {
   "cell_type": "code",
   "execution_count": null,
   "metadata": {
    "collapsed": true
   },
   "outputs": [],
   "source": []
  }
 ],
 "metadata": {
  "kernelspec": {
   "display_name": "Python 3",
   "language": "python",
   "name": "python3"
  },
  "language_info": {
   "codemirror_mode": {
    "name": "ipython",
    "version": 3
   },
   "file_extension": ".py",
   "mimetype": "text/x-python",
   "name": "python",
   "nbconvert_exporter": "python",
   "pygments_lexer": "ipython3",
   "version": "3.5.0"
  }
 },
 "nbformat": 4,
 "nbformat_minor": 0
}
